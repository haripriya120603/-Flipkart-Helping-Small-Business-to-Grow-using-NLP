{
  "cells": [
    {
      "cell_type": "markdown",
      "metadata": {
        "id": "view-in-github",
        "colab_type": "text"
      },
      "source": [
        "<a href=\"https://colab.research.google.com/github/haripriya120603/-Flipkart-Helping-Small-Business-to-Grow-using-NLP/blob/main/tokenization.ipynb\" target=\"_parent\"><img src=\"https://colab.research.google.com/assets/colab-badge.svg\" alt=\"Open In Colab\"/></a>"
      ]
    },
    {
      "cell_type": "code",
      "execution_count": null,
      "metadata": {
        "id": "G0Keomo3gaIl"
      },
      "outputs": [],
      "source": [
        "# Import and download required packages\n",
        "import nltk\n",
        "nltk.download('punkt')\n",
        "from nltk.tokenize import word_tokenize"
      ]
    },
    {
      "cell_type": "code",
      "execution_count": null,
      "metadata": {
        "id": "mqm0SAgFgaIp"
      },
      "outputs": [],
      "source": [
        "# Tokenize reviews\n",
        "review = \"\"\"It's been three months since I bought this product. Today suddenly my phone went black and the issue named screen death. Please search about this issue before\n",
        "buying any premium phone from Samsung. This issue comes many times in Samsung phone many times it gets fixed on home, and many a time not, like in my case. I don't know if I have\n",
        "received a refurbished phone or its a major issue here\"\"\"\n",
        "tokens = word_tokenize(message)\n",
        "print('Total tokens present in review: {}'.format(len(tokens)))"
      ]
    }
  ],
  "metadata": {
    "kernelspec": {
      "display_name": "Python 3",
      "language": "python",
      "name": "python3"
    },
    "language_info": {
      "codemirror_mode": {
        "name": "ipython",
        "version": 3
      },
      "file_extension": ".py",
      "mimetype": "text/x-python",
      "name": "python",
      "nbconvert_exporter": "python",
      "pygments_lexer": "ipython3",
      "version": "3.7.4"
    },
    "colab": {
      "name": "tokenization.ipynb",
      "provenance": [],
      "include_colab_link": true
    }
  },
  "nbformat": 4,
  "nbformat_minor": 0
}