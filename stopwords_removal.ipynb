{
  "cells": [
    {
      "cell_type": "markdown",
      "metadata": {
        "id": "view-in-github",
        "colab_type": "text"
      },
      "source": [
        "<a href=\"https://colab.research.google.com/github/haripriya120603/-Flipkart-Helping-Small-Business-to-Grow-using-NLP/blob/main/stopwords_removal.ipynb\" target=\"_parent\"><img src=\"https://colab.research.google.com/assets/colab-badge.svg\" alt=\"Open In Colab\"/></a>"
      ]
    },
    {
      "cell_type": "code",
      "execution_count": null,
      "metadata": {
        "id": "ZP9NO8srei5f"
      },
      "outputs": [],
      "source": [
        "# Import and download required packages\n",
        "nltk.download('stopwords')\n",
        "from nltk.corpus import stopwords\n",
        "stop_words = stopwords.words('english')\n",
        "print('Total stop words present: {}'.format(len(stop_words)))"
      ]
    },
    {
      "cell_type": "code",
      "execution_count": null,
      "metadata": {
        "id": "YayC5cfoei5k"
      },
      "outputs": [],
      "source": [
        "# Adding custom stopwords\n",
        "custom_stopwords = ['order','review','phone','flipkart']\n",
        "stop_words.extend(custom_stopwords)\n",
        "print('Total stop words present: {}'.format(len(stop_words)))"
      ]
    },
    {
      "cell_type": "code",
      "execution_count": null,
      "metadata": {
        "id": "n5LfUmymei5l"
      },
      "outputs": [],
      "source": [
        "# Remove stopwords, and punctuations from tokens\n",
        "cleaned_review = []\n",
        "for token in tokens:\n",
        "  if token not in stop_words and token.isalpha():\n",
        "    cleaned_review.append(wordnet_lemmatizer.lemmatize(token))\n",
        "print('Total tokens present in cleaned review:\n",
        "{}'.format(len(cleaned_review)))"
      ]
    }
  ],
  "metadata": {
    "kernelspec": {
      "display_name": "Python 3",
      "language": "python",
      "name": "python3"
    },
    "language_info": {
      "codemirror_mode": {
        "name": "ipython",
        "version": 3
      },
      "file_extension": ".py",
      "mimetype": "text/x-python",
      "name": "python",
      "nbconvert_exporter": "python",
      "pygments_lexer": "ipython3",
      "version": "3.7.4"
    },
    "colab": {
      "name": "stopwords_removal.ipynb",
      "provenance": [],
      "include_colab_link": true
    }
  },
  "nbformat": 4,
  "nbformat_minor": 0
}